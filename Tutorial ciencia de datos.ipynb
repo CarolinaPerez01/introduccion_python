{
 "cells": [
  {
   "cell_type": "markdown",
   "metadata": {},
   "source": [
    "# Introducción a python"
   ]
  },
  {
   "cell_type": "markdown",
   "metadata": {},
   "source": [
    "## ¿Que es python?\n",
    "Pyhton es un lenguaje de programación diseñado para ser fácil de leer y escribir, utilizado en diversas áreas como desarrollo web, análisis de datos, inteligencia artificial, automatización y más. Es muy popular debido a su versatilidad y una amplia comunidad que crea herramientas y bibliotecas para facilitar el trabajo de los desarrolladores."
   ]
  },
  {
   "cell_type": "markdown",
   "metadata": {},
   "source": [
    "## Tipos de datos\n",
    "Existen varios tipos de datos básicos que permiten almacenar y manipular diferentes tipos de información\n",
    "- Enteros `int`: Representan números enteros, ya sean positivos o negativos. \n",
    "- Flotantes `float`: Números con punto decimal (números reales). \n",
    "- Booleanos `bool`: Representan valores de verdad, que pueden ser True (verdadero) o False (falso).\n",
    "- Cadenas de texto `str`: Secuencias de caracteres (texto). Las cadenas se definen entre comillas simples o dobles. Ejemplo: 'Hola', \"Mundo\".\n",
    "- Listas `list`: Colecciones ordenadas y mutables de elementos, que pueden ser de cualquier tipo de datos. Se definen con corchetes []. Se puede acceder a la información de la tupla de forma individual. Con la lista puedes:\n",
    "    - Agregarle elementos \n",
    "    - Concatenar listas\n",
    "    - Remover objetos de la lista \n",
    "    - Insertar objeto a una posición de la lista \n",
    "    - Ordenarla\n",
    "- Tuplas `tuple`: Similares a las listas, pero inmutables (no se pueden modificar después de su creación). Se definen con paréntesis (). Se puede acceder a la información de la tupla de forma individual\n",
    "- Conjuntos `set`: Colecciones no ordenadas de elementos únicos. Se definen con llaves {}. E\n",
    "- Diccionarios `dict`: Colecciones no ordenadas de pares clave-valor. Las claves deben ser únicas. Se definen con llaves {}."
   ]
  },
  {
   "cell_type": "markdown",
   "metadata": {},
   "source": [
    "### Ejemplos\n",
    "Aquí encontrarás varios ejemplos de los tipos de datos\n",
    " ###### NOTA: Al denominar una variable, darle un valor y usar `type` nos indicará que tipo de dato es"
   ]
  },
  {
   "cell_type": "markdown",
   "metadata": {},
   "source": [
    "\n",
    "```\n",
    "entero_1 = -23456\n",
    "type(entero_1)\n",
    "\n",
    "float_1 = 5.38\n",
    "type(float_1)\n",
    "\n",
    "boolean_1 = True\n",
    "boolean_2 = False\n",
    "type(boolean_1)\n",
    "\n",
    "string_1 = \"Carolina Pérez\"\n",
    "type(string_1)\n",
    "```"
   ]
  },
  {
   "cell_type": "code",
   "execution_count": 9,
   "metadata": {},
   "outputs": [
    {
     "data": {
      "text/plain": [
       "int"
      ]
     },
     "execution_count": 9,
     "metadata": {},
     "output_type": "execute_result"
    }
   ],
   "source": [
    "entero_1 = -23456\n",
    "type(entero_1)"
   ]
  },
  {
   "cell_type": "code",
   "execution_count": 10,
   "metadata": {},
   "outputs": [
    {
     "data": {
      "text/plain": [
       "float"
      ]
     },
     "execution_count": 10,
     "metadata": {},
     "output_type": "execute_result"
    }
   ],
   "source": [
    "float_1 = 5.38\n",
    "type(float_1)"
   ]
  },
  {
   "cell_type": "code",
   "execution_count": 11,
   "metadata": {},
   "outputs": [
    {
     "data": {
      "text/plain": [
       "bool"
      ]
     },
     "execution_count": 11,
     "metadata": {},
     "output_type": "execute_result"
    }
   ],
   "source": [
    "boolean_1 = True\n",
    "boolean_2 = False\n",
    "type(boolean_1)"
   ]
  },
  {
   "cell_type": "code",
   "execution_count": 12,
   "metadata": {},
   "outputs": [
    {
     "data": {
      "text/plain": [
       "str"
      ]
     },
     "execution_count": 12,
     "metadata": {},
     "output_type": "execute_result"
    }
   ],
   "source": [
    "string_1 = \"Carolina Pérez\"\n",
    "type(string_1)"
   ]
  },
  {
   "cell_type": "code",
   "execution_count": 13,
   "metadata": {},
   "outputs": [
    {
     "data": {
      "text/plain": [
       "(21, 'Carolina', True)"
      ]
     },
     "execution_count": 13,
     "metadata": {},
     "output_type": "execute_result"
    }
   ],
   "source": [
    "tupla_1 = (21, \"Carolina\", True)\n",
    "tupla_1"
   ]
  },
  {
   "cell_type": "code",
   "execution_count": 14,
   "metadata": {},
   "outputs": [
    {
     "name": "stdout",
     "output_type": "stream",
     "text": [
      "21\n",
      "Carolina\n",
      "True\n"
     ]
    }
   ],
   "source": [
    "print(tupla_1[0])\n",
    "print(tupla_1[1])\n",
    "print(tupla_1[2])"
   ]
  },
  {
   "cell_type": "code",
   "execution_count": 15,
   "metadata": {},
   "outputs": [
    {
     "name": "stdout",
     "output_type": "stream",
     "text": [
      "['carolina', 2, True]\n",
      "[21, 'Carolina', True]\n"
     ]
    }
   ],
   "source": [
    "lista_1 = [\"carolina\", 2, True]\n",
    "lista_2 = list(tupla_1)\n",
    "print(lista_1)\n",
    "print(lista_2)"
   ]
  },
  {
   "cell_type": "code",
   "execution_count": 16,
   "metadata": {},
   "outputs": [
    {
     "name": "stdout",
     "output_type": "stream",
     "text": [
      "carolina\n",
      "2\n",
      "True\n"
     ]
    }
   ],
   "source": [
    "print(lista_1[0])\n",
    "print(lista_1[1])\n",
    "print(lista_1[2])"
   ]
  },
  {
   "cell_type": "code",
   "execution_count": 17,
   "metadata": {},
   "outputs": [
    {
     "data": {
      "text/plain": [
       "set()"
      ]
     },
     "execution_count": 17,
     "metadata": {},
     "output_type": "execute_result"
    }
   ],
   "source": [
    "conjunto_vacio = set()\n",
    "conjunto_vacio"
   ]
  },
  {
   "cell_type": "code",
   "execution_count": 18,
   "metadata": {},
   "outputs": [
    {
     "data": {
      "text/plain": [
       "{'a', 'b', 'c'}"
      ]
     },
     "execution_count": 18,
     "metadata": {},
     "output_type": "execute_result"
    }
   ],
   "source": [
    "conjunto_1 = set([\"a\", \"b\", \"c\"])\n",
    "conjunto_1"
   ]
  },
  {
   "cell_type": "code",
   "execution_count": 19,
   "metadata": {},
   "outputs": [
    {
     "data": {
      "text/plain": [
       "{'Nombre': 'Carolina',\n",
       " 'Apellido': 'Pérez',\n",
       " 'Programa': 'Economía',\n",
       " 'Año': 2024,\n",
       " 'Semestre': '8'}"
      ]
     },
     "execution_count": 19,
     "metadata": {},
     "output_type": "execute_result"
    }
   ],
   "source": [
    "estudiante = {\"Nombre\": \"Carolina\", \"Apellido\": \"Pérez\", \"Programa\": \"Economía\", \"Año\": 2024, \"Semestre\": \"8\"}\n",
    "estudiante"
   ]
  },
  {
   "cell_type": "code",
   "execution_count": 20,
   "metadata": {},
   "outputs": [
    {
     "data": {
      "text/plain": [
       "2024"
      ]
     },
     "execution_count": 20,
     "metadata": {},
     "output_type": "execute_result"
    }
   ],
   "source": [
    "#Puedes buscar un dato específico\n",
    "estudiante[\"Año\"]"
   ]
  },
  {
   "cell_type": "markdown",
   "metadata": {},
   "source": [
    "# Operaciones entre datos\n",
    "En Python, puedes realizar varias operaciones con números, ya sean enteros (`int`) o flotantes (`float`)"
   ]
  },
  {
   "cell_type": "markdown",
   "metadata": {},
   "source": [
    "### Ejemplo"
   ]
  },
  {
   "cell_type": "code",
   "execution_count": 21,
   "metadata": {},
   "outputs": [
    {
     "name": "stdout",
     "output_type": "stream",
     "text": [
      "11.0\n",
      "-8.67\n",
      "319.0\n",
      "45.0\n"
     ]
    }
   ],
   "source": [
    "print (10 +1.0)\n",
    "print (-8-0.67)\n",
    "print (-3.19*-100)\n",
    "print (4500/100)"
   ]
  },
  {
   "cell_type": "markdown",
   "metadata": {},
   "source": [
    "## Operaciones lógicas\n",
    "Las operaciones lógicas son utilizadas para combinar o modificar valores booleanos (`True` o `False`). Estas operaciones son fundamentales en la toma de decisiones y en el control del flujo del programa. `<, <=, >, >=, ==, !=`"
   ]
  },
  {
   "cell_type": "code",
   "execution_count": 22,
   "metadata": {},
   "outputs": [
    {
     "name": "stdout",
     "output_type": "stream",
     "text": [
      "True\n",
      "True\n",
      "False\n",
      "True\n",
      "True\n"
     ]
    }
   ],
   "source": [
    "print(3 > 2)\n",
    "print (4 >= 4)\n",
    "print (100 < -100)\n",
    "print (True == True)\n",
    "print(\"azul\" != \"rojo\")"
   ]
  },
  {
   "cell_type": "markdown",
   "metadata": {},
   "source": [
    "## Texto\n",
    "En Python, puedes definir variables y luego usarlas para crear y mostrar cadenas de texto combinadas."
   ]
  },
  {
   "cell_type": "markdown",
   "metadata": {},
   "source": [
    "### Ejemplo"
   ]
  },
  {
   "cell_type": "code",
   "execution_count": 23,
   "metadata": {},
   "outputs": [
    {
     "name": "stdout",
     "output_type": "stream",
     "text": [
      "Carolina Pérez Molina\n"
     ]
    }
   ],
   "source": [
    "nombre = \"Carolina\"\n",
    "apellido = \"Pérez Molina\"\n",
    "print(nombre + \" \" + apellido)"
   ]
  },
  {
   "cell_type": "markdown",
   "metadata": {},
   "source": [
    "## Conversión básica entre tipos de datos\n",
    "\n",
    "Se hace referencia al proceso de cambiar el tipo de una variable de un tipo de datos a otro. Esto es útil cuando necesitas realizar operaciones que requieren tipos de datos específicos o cuando necesitas adaptar datos para un formato determinado"
   ]
  },
  {
   "cell_type": "markdown",
   "metadata": {},
   "source": [
    "### Ejemplo"
   ]
  },
  {
   "cell_type": "code",
   "execution_count": 24,
   "metadata": {},
   "outputs": [
    {
     "data": {
      "text/plain": [
       "int"
      ]
     },
     "execution_count": 24,
     "metadata": {},
     "output_type": "execute_result"
    }
   ],
   "source": [
    "numero_celular = 3002996857\n",
    "type (numero_celular)"
   ]
  },
  {
   "cell_type": "code",
   "execution_count": 25,
   "metadata": {},
   "outputs": [
    {
     "data": {
      "text/plain": [
       "3002996857.0"
      ]
     },
     "execution_count": 25,
     "metadata": {},
     "output_type": "execute_result"
    }
   ],
   "source": [
    "float(numero_celular)"
   ]
  },
  {
   "cell_type": "code",
   "execution_count": 26,
   "metadata": {},
   "outputs": [
    {
     "data": {
      "text/plain": [
       "'3002996857'"
      ]
     },
     "execution_count": 26,
     "metadata": {},
     "output_type": "execute_result"
    }
   ],
   "source": [
    "str(numero_celular)"
   ]
  },
  {
   "cell_type": "markdown",
   "metadata": {},
   "source": [
    "## Clases, objetos, atributos y métodos\n",
    "Estas son una forma de manipular cadenas de texto de manera eficiente, facilitando tareas como el formateo, la limpieza, la validación y el análisis de datos"
   ]
  },
  {
   "cell_type": "markdown",
   "metadata": {},
   "source": [
    "### Clases\n",
    "Una clase es un plano o plantilla para crear objetos. Nos permite definir la estructura de los objetos que se van a crear, indicando sus atributos (características) y métodos (comportamientos)."
   ]
  },
  {
   "cell_type": "code",
   "execution_count": 30,
   "metadata": {},
   "outputs": [],
   "source": [
    "class Estudiante:\n",
    "      def __init__(self, nombre, edad):\n",
    "          pass"
   ]
  },
  {
   "cell_type": "markdown",
   "metadata": {},
   "source": [
    "### Atributo\n",
    "Son variables asociadas a una clase o a un objeto. Los atributos pueden describir características de los objetos"
   ]
  },
  {
   "cell_type": "code",
   "execution_count": 55,
   "metadata": {},
   "outputs": [],
   "source": [
    "class Estudiante:\n",
    "      def __init__(self, nombre, edad):\n",
    "        self.nombre = nombre  \n",
    "        self.edad = edad   \n",
    "           \n",
    "      def mostrar_informacion(self): \n",
    "        return f\"Nombre: {self.nombre}, Edad: {self.edad}\"\n",
    "          "
   ]
  },
  {
   "cell_type": "markdown",
   "metadata": {},
   "source": [
    "### Objetos\n",
    "Es una instancia de una clase. Si la clase es un plano, el objeto es una realización concreta de esa clase."
   ]
  },
  {
   "cell_type": "code",
   "execution_count": 56,
   "metadata": {},
   "outputs": [],
   "source": [
    "estudiante1 = Estudiante(\"Carolina\", 20)"
   ]
  },
  {
   "cell_type": "markdown",
   "metadata": {},
   "source": [
    "### Métodos\n",
    "Son funciones que pertenecen a una clase y definen el comportamiento de los objetos."
   ]
  },
  {
   "cell_type": "code",
   "execution_count": 57,
   "metadata": {},
   "outputs": [
    {
     "name": "stdout",
     "output_type": "stream",
     "text": [
      "Nombre: Carolina, Edad: 20\n"
     ]
    }
   ],
   "source": [
    "print(estudiante1.mostrar_informacion())"
   ]
  },
  {
   "cell_type": "markdown",
   "metadata": {},
   "source": [
    "#### Nota: Aquí encontrarás una forma de organizar el texto "
   ]
  },
  {
   "cell_type": "markdown",
   "metadata": {},
   "source": [
    "- `title` : Primeras letras mayúsculas\n",
    "- `capitalize` : Primera letra mayuscula\n",
    "- `upper` : Todo en mayuscula\n",
    "- `lower` : Todo en minúscula\n",
    "- `endswith`: ('e') Si hay una 'e' en el final \n",
    "- `isalnum` : Verificar si todos los caracteres en una cadena son alfanuméricos\n",
    "- `strip` : Quita espacios \n",
    "- `count`: ('a') cuantas 'a' hay\n",
    "- `replace` : (\"a\", \"A\")  Pasa de a minúscula a mayuscula "
   ]
  },
  {
   "cell_type": "code",
   "execution_count": 14,
   "metadata": {},
   "outputs": [
    {
     "name": "stdout",
     "output_type": "stream",
     "text": [
      "Carolina Pérez\n",
      "Carolina pérez\n",
      "CAROLINA PÉREZ\n",
      "carolina pérez\n",
      "False\n",
      "False\n",
      "Carolina Pérez\n",
      "2\n",
      "CArolinA Pérez\n"
     ]
    }
   ],
   "source": [
    "nombre_completo = 'Carolina Pérez'\n",
    "print(nombre_completo.title()) \n",
    "print(nombre_completo.capitalize()) \n",
    "print(nombre_completo.upper()) \n",
    "print(nombre_completo.lower())\n",
    "print(nombre_completo.endswith('e')) \n",
    "print(nombre_completo.isalnum())\n",
    "print(nombre_completo.strip()) \n",
    "print(nombre_completo.count('a')) \n",
    "print(nombre_completo.replace(\"a\", \"A\")) "
   ]
  },
  {
   "cell_type": "markdown",
   "metadata": {},
   "source": [
    "# Indexación de estructuras de almacenamiento\n",
    "Es el proceso de acceder o modificar los elementos almacenados en estructuras de datos como listas, tuplas o cadenas utilizando índices"
   ]
  },
  {
   "cell_type": "markdown",
   "metadata": {},
   "source": [
    "## Nota\n",
    "- Acceso usando índices enteros o rangos de índices:\n",
    "    - Cada elemento dentro de una estructura como una lista, tupla o cadena tiene un índice, que es un número entero que indica su posición en la secuencia.\n",
    "- Python utiliza una indexación basada en cero, lo que significa que el primer elemento tiene un índice 0, el segundo un índice 1, y así sucesivamente.\n",
    "- Podemos usar la indexación para acceder o modificar el contenido de las estructuras.\n",
    "\n",
    "###### Importante: No todas las estructuras permiten la modificación de sus elementos. Por ejemplo, las tuplas son inmutables, lo que significa que no puedes cambiar los valores una vez que la tupla ha sido creada."
   ]
  },
  {
   "cell_type": "markdown",
   "metadata": {},
   "source": [
    "### Ejemplo"
   ]
  },
  {
   "cell_type": "code",
   "execution_count": 1,
   "metadata": {},
   "outputs": [
    {
     "data": {
      "text/plain": [
       "'Milena'"
      ]
     },
     "execution_count": 1,
     "metadata": {},
     "output_type": "execute_result"
    }
   ],
   "source": [
    "dic_1 = {0: \"Carolina\", -1: \"Milena\", 3: \"Fernando\" }\n",
    "dic_1[-1]"
   ]
  },
  {
   "cell_type": "code",
   "execution_count": 2,
   "metadata": {},
   "outputs": [],
   "source": [
    "lista_1 =[10, 8, 7, -1, 28.9, 0, 100]\n",
    "tupla_1 = tuple(lista_1)"
   ]
  },
  {
   "cell_type": "code",
   "execution_count": 3,
   "metadata": {},
   "outputs": [
    {
     "data": {
      "text/plain": [
       "7"
      ]
     },
     "execution_count": 3,
     "metadata": {},
     "output_type": "execute_result"
    }
   ],
   "source": [
    "lista_1[2]"
   ]
  },
  {
   "cell_type": "markdown",
   "metadata": {},
   "source": [
    "### Rangos y posiciones\n",
    "Los rangos y las posiciones son conceptos clave cuando trabajas con secuencias (como listas, cadenas o tuplas), ya que te permiten acceder, consultar y manipular los elementos almacenados en estas estructuras\n",
    "\n",
    "- Rangos: Permiten extraer subconjuntos de elementos de una secuencia utilizando índices de inicio, fin y un paso opcional para definir saltos.\n",
    "- Posiciones: Usamos índices positivos para recorrer secuencias desde el principio y negativos para recorrerlas desde el final."
   ]
  },
  {
   "cell_type": "code",
   "execution_count": 6,
   "metadata": {},
   "outputs": [
    {
     "data": {
      "text/plain": [
       "[10, 8, 7, -1, 28.9, 0, 100]"
      ]
     },
     "execution_count": 6,
     "metadata": {},
     "output_type": "execute_result"
    }
   ],
   "source": [
    "lista_1"
   ]
  },
  {
   "cell_type": "code",
   "execution_count": 4,
   "metadata": {},
   "outputs": [
    {
     "data": {
      "text/plain": [
       "[10, 8, 7, -1, 28.9, 0, 100]"
      ]
     },
     "execution_count": 4,
     "metadata": {},
     "output_type": "execute_result"
    }
   ],
   "source": [
    "# Retorna la lista completa\n",
    "lista_1[:]"
   ]
  },
  {
   "cell_type": "code",
   "execution_count": 5,
   "metadata": {},
   "outputs": [
    {
     "data": {
      "text/plain": [
       "[10, 8, 7, -1, 28.9, 0]"
      ]
     },
     "execution_count": 5,
     "metadata": {},
     "output_type": "execute_result"
    }
   ],
   "source": [
    "# La posición final no se toma\n",
    "lista_1[0:6]"
   ]
  },
  {
   "cell_type": "markdown",
   "metadata": {},
   "source": [
    "### Modifica información"
   ]
  },
  {
   "cell_type": "code",
   "execution_count": 7,
   "metadata": {},
   "outputs": [
    {
     "data": {
      "text/plain": [
       "[-10, 8, 7, -1, 28.9, 0, 100]"
      ]
     },
     "execution_count": 7,
     "metadata": {},
     "output_type": "execute_result"
    }
   ],
   "source": [
    "# Se modificó la posición 0\n",
    "lista_1[0] =-10\n",
    "lista_1"
   ]
  },
  {
   "cell_type": "markdown",
   "metadata": {},
   "source": [
    "# Estructuras de control\n",
    "Son herramientas fundamentales para controlar el flujo de ejecución de un programa, permitiendo tomar decisiones, realizar repeticiones y gestionar el flujo de los datos. Estas estructuras determinan cómo y cuándo se ejecutarán ciertas líneas de código.\n",
    "\n",
    "- `if`: Condición. El código a ejecutar si la condición es verdadera.\n",
    "- `elif`: Otra condición. Código a ejecutar si la primera condición es falsa y otra condición es verdadera.\n",
    "- `else`: Otra condicón. Código a ejecutar si todas las condiciones anteriores son falsas."
   ]
  },
  {
   "cell_type": "code",
   "execution_count": 9,
   "metadata": {},
   "outputs": [
    {
     "name": "stdout",
     "output_type": "stream",
     "text": [
      "Se otorga beca de monitoría\n"
     ]
    }
   ],
   "source": [
    "nota = 4\n",
    "sisben = \"no\"\n",
    "monitor = \"si\"\n",
    "\n",
    "if (nota > 4.5):\n",
    "    print(\"Se otorga beca de xcelencia académica\")\n",
    "elif (nota > 4) or (sisben == \"si\") :\n",
    "    print(\"Se otorga beca convencioanl\")\n",
    "elif (nota > 3.8) or (monitor == \"si\") :\n",
    "    print(\"Se otorga beca de monitoría\")\n",
    "else:\n",
    "    print(\"No se otroga beca\")"
   ]
  },
  {
   "cell_type": "markdown",
   "metadata": {},
   "source": [
    "## Loops (iteraciones - repeticiones)\n",
    "\n",
    "Además existen otras estucturas de control como:\n",
    "- `For`: Itera sobre los elementos de una secuencia (como una lista, cadena, tupla, etc.) o un rango de números, y ejecuta un bloque de código para cada uno de esos elementos.\n",
    "- `range`: Genera una secuencia de números en un rango definido.\n",
    "- `while`: Repite la ejecución de un bloque de código mientras una condición sea verdadera. \n",
    "- `break`: Termina el bucle antes de que se complete"
   ]
  },
  {
   "cell_type": "code",
   "execution_count": 11,
   "metadata": {},
   "outputs": [
    {
     "name": "stdout",
     "output_type": "stream",
     "text": [
      "Hola a todos\n",
      "Hola a todos\n",
      "Hola a todos\n"
     ]
    }
   ],
   "source": [
    "#Cuantos elementos haya el va a iterar\n",
    "for _ in [5, 1, 2]:\n",
    "    print(\"Hola a todos\")"
   ]
  },
  {
   "cell_type": "code",
   "execution_count": 12,
   "metadata": {},
   "outputs": [
    {
     "name": "stdout",
     "output_type": "stream",
     "text": [
      "Hola Carolina!\n",
      "Hola Sara!\n",
      "Hola Paulina!\n"
     ]
    }
   ],
   "source": [
    "for nombre in [\"Carolina\", \"Sara\", \"Paulina\"]:\n",
    "    print(f\"Hola {nombre}!\")"
   ]
  },
  {
   "cell_type": "code",
   "execution_count": 1,
   "metadata": {},
   "outputs": [
    {
     "name": "stdout",
     "output_type": "stream",
     "text": [
      "la llave 'nombre' del diccionario contiene lo siguiente: Carolina\n",
      "la llave 'apellido' del diccionario contiene lo siguiente: Pérez\n"
     ]
    }
   ],
   "source": [
    "dic_1 = {\"nombre\": \"Carolina\", \"apellido\": \"Pérez\"}\n",
    "\n",
    "for key in dic_1:\n",
    "    print(f\"la llave '{key}' del diccionario contiene lo siguiente: {dic_1[key]}\")"
   ]
  },
  {
   "cell_type": "markdown",
   "metadata": {},
   "source": [
    "## List Comprehension\n",
    "Es una forma concisa y eficiente de crear listas basadas en secuencias o iterables, como listas, cadenas, tuplas, o rangos. Permite generar una nueva lista aplicando transformaciones o filtros a cada elemento de una secuencia existente, todo en una sola línea de código."
   ]
  },
  {
   "cell_type": "code",
   "execution_count": 2,
   "metadata": {},
   "outputs": [
    {
     "data": {
      "text/plain": [
       "['2367897', '4586643', '10435657']"
      ]
     },
     "execution_count": 2,
     "metadata": {},
     "output_type": "execute_result"
    }
   ],
   "source": [
    "# La list comprehension permite escribir este mismo código de una manera más compacta y eficiente.\n",
    "id_numbers = [\"2.367.897\", \"4.586.643\", \"10.435.657\"]\n",
    "\n",
    "id_numbers_clean = []\n",
    "for id in id_numbers:\n",
    "    id_numbers_clean.append(id.replace(\".\", \"\"))\n",
    "\n",
    "id_numbers_clean"
   ]
  },
  {
   "cell_type": "markdown",
   "metadata": {},
   "source": [
    "# Funciones"
   ]
  },
  {
   "cell_type": "markdown",
   "metadata": {},
   "source": [
    "## Función sin argumentos de entrada ni salida\n",
    "Es una función que no recibe parámetros ni devuelve valores. Estas funciones simplemente ejecutan un bloque de código cuando son llamadas."
   ]
  },
  {
   "cell_type": "code",
   "execution_count": 3,
   "metadata": {},
   "outputs": [],
   "source": [
    "def saludar():\n",
    "    print(\"Hola, bienvenido!\")"
   ]
  },
  {
   "cell_type": "code",
   "execution_count": 4,
   "metadata": {},
   "outputs": [
    {
     "name": "stdout",
     "output_type": "stream",
     "text": [
      "Hola, bienvenido!\n"
     ]
    }
   ],
   "source": [
    "saludar()"
   ]
  },
  {
   "cell_type": "markdown",
   "metadata": {},
   "source": [
    "## Función con argumentos de entrada pero sin salida\n",
    "La función utiliza los valores que se le pasan como argumentos para realizar su tarea, pero no hay un valor retornado a quien llama a la función"
   ]
  },
  {
   "cell_type": "code",
   "execution_count": 5,
   "metadata": {},
   "outputs": [],
   "source": [
    "def saludar(nombre):\n",
    "    print(f\"Hola, {nombre}!\")"
   ]
  },
  {
   "cell_type": "code",
   "execution_count": 6,
   "metadata": {},
   "outputs": [
    {
     "name": "stdout",
     "output_type": "stream",
     "text": [
      "Hola, carolina!\n"
     ]
    }
   ],
   "source": [
    "saludar (\"carolina\")"
   ]
  },
  {
   "cell_type": "markdown",
   "metadata": {},
   "source": [
    "### El orden de los argumentos de entrada (inputs) en una función en Python sí importa"
   ]
  },
  {
   "cell_type": "code",
   "execution_count": 5,
   "metadata": {},
   "outputs": [],
   "source": [
    "def restar(a, b):\n",
    "    resultado = a - b\n",
    "    print(resultado)"
   ]
  },
  {
   "cell_type": "code",
   "execution_count": 6,
   "metadata": {},
   "outputs": [
    {
     "name": "stdout",
     "output_type": "stream",
     "text": [
      "112\n"
     ]
    }
   ],
   "source": [
    "restar(124,12)"
   ]
  },
  {
   "cell_type": "code",
   "execution_count": 7,
   "metadata": {},
   "outputs": [
    {
     "name": "stdout",
     "output_type": "stream",
     "text": [
      "-110\n"
     ]
    }
   ],
   "source": [
    "restar(12,122)"
   ]
  },
  {
   "cell_type": "markdown",
   "metadata": {},
   "source": [
    "### Función con argumento de entrada y de salida\n",
    "Es aquella que recibe uno o más valores como entrada (argumentos), realiza una operación con esos valores, y luego devuelve un resultado con la instrucción `return`\n"
   ]
  },
  {
   "cell_type": "code",
   "execution_count": 8,
   "metadata": {},
   "outputs": [],
   "source": [
    "def resta_numeros(num_1, num_2):\n",
    "    resultado = num_1-num_2\n",
    "    return resultado"
   ]
  },
  {
   "cell_type": "code",
   "execution_count": 9,
   "metadata": {},
   "outputs": [
    {
     "data": {
      "text/plain": [
       "23.799999999999997"
      ]
     },
     "execution_count": 9,
     "metadata": {},
     "output_type": "execute_result"
    }
   ],
   "source": [
    "resta_numeros(37.8, 14)"
   ]
  },
  {
   "cell_type": "markdown",
   "metadata": {},
   "source": [
    "### Funciones anónimas (lambda)\n",
    "Son útiles cuando necesitas una función pequeña, rápida y que solo ejecuta una expresión. Son ideales para casos en los que una función simple se pasa como argumento a otras funciones, evitando la necesidad de definir una función completa con `def`. Sin embargo, debido a su simplicidad, las lambdas están limitadas a expresiones de una sola línea."
   ]
  },
  {
   "cell_type": "code",
   "execution_count": 17,
   "metadata": {},
   "outputs": [],
   "source": [
    "division = lambda x, y: x/y"
   ]
  },
  {
   "cell_type": "code",
   "execution_count": 18,
   "metadata": {},
   "outputs": [
    {
     "name": "stdout",
     "output_type": "stream",
     "text": [
      "0.008\n"
     ]
    }
   ],
   "source": [
    "resultado= division (3.456, 432)\n",
    "print(resultado)"
   ]
  },
  {
   "cell_type": "markdown",
   "metadata": {},
   "source": [
    "#### Arguemnto único\n",
    "Cuando una función lambda tiene un solo argumento, toma ese valor y realiza una operación con él."
   ]
  },
  {
   "cell_type": "code",
   "execution_count": 12,
   "metadata": {},
   "outputs": [
    {
     "name": "stdout",
     "output_type": "stream",
     "text": [
      "10\n"
     ]
    }
   ],
   "source": [
    "multiplicar = lambda x: x * 2\n",
    "resultado = multiplicar(5)\n",
    "print(resultado)"
   ]
  },
  {
   "cell_type": "markdown",
   "metadata": {},
   "source": [
    "#### Multiples argumentos\n",
    "Recibe varios valores separados por comas y realiza una operación con ellos."
   ]
  },
  {
   "cell_type": "code",
   "execution_count": 19,
   "metadata": {},
   "outputs": [
    {
     "name": "stdout",
     "output_type": "stream",
     "text": [
      "7\n"
     ]
    }
   ],
   "source": [
    "sumar = lambda x, y: x + y\n",
    "resultado = sumar(4, 3)\n",
    "print(resultado)"
   ]
  },
  {
   "cell_type": "markdown",
   "metadata": {},
   "source": [
    "### Scope \n",
    "Se refiere al contexto en el que las variables y funciones son accesibles y utilizables en un programa. En otras palabras, determina desde qué partes del código puedes acceder a ciertas variables o funciones."
   ]
  },
  {
   "cell_type": "code",
   "execution_count": 23,
   "metadata": {},
   "outputs": [],
   "source": [
    "def producto_numeros(num1, num2):\n",
    "    resultado = num1 * num2\n",
    "    return resultado"
   ]
  },
  {
   "cell_type": "code",
   "execution_count": 25,
   "metadata": {},
   "outputs": [
    {
     "name": "stdout",
     "output_type": "stream",
     "text": [
      "12\n"
     ]
    }
   ],
   "source": [
    "print(producto_numeros(3, 4))"
   ]
  },
  {
   "cell_type": "markdown",
   "metadata": {},
   "source": [
    "### Docstring\n",
    "Es una cadena de texto (string) que se utiliza para documentar el propósito y el comportamiento de una función, clase o módulo. Se coloca justo debajo de la definición del objeto que deseas documentar (normalmente una función o clase) y es una buena práctica para mejorar la legibilidad y el entendimiento del código, tanto para ti como para otros desarrolladores."
   ]
  },
  {
   "cell_type": "code",
   "execution_count": 26,
   "metadata": {},
   "outputs": [],
   "source": [
    "def producto_numeros(num1, num2):\n",
    "    \"\"\"\n",
    "    Calcula el producto de dos números.\n",
    "\n",
    "    Parámetros:\n",
    "    num1 (int, float): El primer número.\n",
    "    num2 (int, float): El segundo número.\n",
    "\n",
    "    Retorna:\n",
    "    int, float: El producto de num1 y num2.\n",
    "    \"\"\"\n",
    "    return num1 * num2"
   ]
  },
  {
   "cell_type": "code",
   "execution_count": 27,
   "metadata": {},
   "outputs": [
    {
     "data": {
      "text/plain": [
       "'\\n    Calcula el producto de dos números.\\n\\n    Parámetros:\\n    num1 (int, float): El primer número.\\n    num2 (int, float): El segundo número.\\n\\n    Retorna:\\n    int, float: El producto de num1 y num2.\\n    '"
      ]
     },
     "execution_count": 27,
     "metadata": {},
     "output_type": "execute_result"
    }
   ],
   "source": [
    "producto_numeros.__doc__"
   ]
  },
  {
   "cell_type": "markdown",
   "metadata": {},
   "source": [
    "# Modulos e importaciones \n",
    "Son una forma de organizar el código y reutilizarlo de manera eficiente. Los módulos permiten dividir un programa grande en archivos más pequeños y reutilizables, mientras que las importaciones te permiten usar funciones, clases o variables definidas en otros archivos o bibliotecas."
   ]
  },
  {
   "cell_type": "markdown",
   "metadata": {},
   "source": [
    "## Importaciones de librería "
   ]
  },
  {
   "cell_type": "markdown",
   "metadata": {},
   "source": [
    "### Sin alias\n",
    "Cuando importas una librería sin alias, usas el nombre completo de la librería para acceder a sus componentes. Esto puede hacer que tu código sea más explícito sobre qué librería estás utilizando."
   ]
  },
  {
   "cell_type": "code",
   "execution_count": 28,
   "metadata": {},
   "outputs": [],
   "source": [
    "import math"
   ]
  },
  {
   "cell_type": "code",
   "execution_count": 29,
   "metadata": {},
   "outputs": [
    {
     "data": {
      "text/plain": [
       "10.0"
      ]
     },
     "execution_count": 29,
     "metadata": {},
     "output_type": "execute_result"
    }
   ],
   "source": [
    "math.sqrt(100)"
   ]
  },
  {
   "cell_type": "markdown",
   "metadata": {},
   "source": [
    "### Con alias\n",
    "Es una práctica común que puede hacer que el código sea más conciso y, en algunos casos, más legible."
   ]
  },
  {
   "cell_type": "code",
   "execution_count": 30,
   "metadata": {},
   "outputs": [],
   "source": [
    "import math as m"
   ]
  },
  {
   "cell_type": "code",
   "execution_count": 31,
   "metadata": {},
   "outputs": [
    {
     "data": {
      "text/plain": [
       "10.0"
      ]
     },
     "execution_count": 31,
     "metadata": {},
     "output_type": "execute_result"
    }
   ],
   "source": [
    "math.sqrt(100)"
   ]
  },
  {
   "cell_type": "markdown",
   "metadata": {},
   "source": [
    "### Importación selectiva \n",
    "Permite importar solo ciertas partes de un módulo o paquete en lugar de importar todo el módulo. Esto puede hacer que tu código sea más eficiente y legible, especialmente cuando solo necesitas unas pocas funciones o clases específicas."
   ]
  },
  {
   "cell_type": "code",
   "execution_count": 32,
   "metadata": {},
   "outputs": [],
   "source": [
    "from math import sqrt"
   ]
  },
  {
   "cell_type": "code",
   "execution_count": 33,
   "metadata": {},
   "outputs": [
    {
     "data": {
      "text/plain": [
       "10.0"
      ]
     },
     "execution_count": 33,
     "metadata": {},
     "output_type": "execute_result"
    }
   ],
   "source": [
    "sqrt(100)"
   ]
  },
  {
   "cell_type": "markdown",
   "metadata": {},
   "source": [
    "## Importación de módulos propios\n",
    "Hace referencia a la práctica de utilizar módulos que has creado tú mismo dentro de tu proyecto. Esto permite organizar y reutilizar el código de manera eficiente.\n",
    "### Con alias \n",
    "La importación de módulos propios con alias en Python es una técnica que facilita la escritura de código más limpio y manejable. Al usar alias, puedes simplificar el acceso a módulos y funciones, evitar conflictos de nombres y mejorar la legibilidad del código.\n",
    "\n",
    "### Importación selectiva\n",
    "Permite importar solo ciertas funciones, clases, o variables específicas desde un módulo en lugar de importar todo el módulo. Esto puede hacer que tu código sea más eficiente y fácil de entender al reducir la cantidad de componentes importados y al hacer explícito qué partes del módulo estás utilizando."
   ]
  }
 ],
 "metadata": {
  "kernelspec": {
   "display_name": "ciencia_datos",
   "language": "python",
   "name": "python3"
  },
  "language_info": {
   "codemirror_mode": {
    "name": "ipython",
    "version": 3
   },
   "file_extension": ".py",
   "mimetype": "text/x-python",
   "name": "python",
   "nbconvert_exporter": "python",
   "pygments_lexer": "ipython3",
   "version": "3.11.9"
  }
 },
 "nbformat": 4,
 "nbformat_minor": 2
}
